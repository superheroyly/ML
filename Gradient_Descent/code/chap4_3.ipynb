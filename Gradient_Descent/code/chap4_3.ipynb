{
 "cells": [
  {
   "cell_type": "code",
   "execution_count": 1,
   "id": "aa2797c2",
   "metadata": {},
   "outputs": [],
   "source": [
    "import numpy as np"
   ]
  },
  {
   "cell_type": "code",
   "execution_count": 2,
   "id": "3b677aa3",
   "metadata": {},
   "outputs": [],
   "source": [
    "m = 100\n",
    "X = 6 * np.random.rand(m,1) - 3"
   ]
  },
  {
   "cell_type": "code",
   "execution_count": 3,
   "id": "fc5210ad",
   "metadata": {},
   "outputs": [
    {
     "data": {
      "text/plain": [
       "[<matplotlib.lines.Line2D at 0x204997407f0>]"
      ]
     },
     "execution_count": 3,
     "metadata": {},
     "output_type": "execute_result"
    },
    {
     "data": {
      "image/png": "[encoded data removed]",
      "text/plain": [
       "<Figure size 432x288 with 1 Axes>"
      ]
     },
     "metadata": {
      "needs_background": "light"
     },
     "output_type": "display_data"
    }
   ],
   "source": [
    "import matplotlib.pyplot as plt\n",
    "plt.plot(X, np.zeros((100,1)), \"b.\")"
   ]
  },
  {
   "cell_type": "code",
   "execution_count": 5,
   "id": "1844211e",
   "metadata": {},
   "outputs": [
    {
     "data": {
      "text/plain": [
       "array([[-1.12823591],\n",
       "       [-0.29605607],\n",
       "       [-2.25970833],\n",
       "       [-2.51068233],\n",
       "       [ 1.20413374],\n",
       "       [-0.27497838],\n",
       "       [-1.92151719],\n",
       "       [ 0.72094724],\n",
       "       [-0.34751653],\n",
       "       [ 0.70809319],\n",
       "       [ 1.87477906],\n",
       "       [-0.72619763],\n",
       "       [ 2.7557443 ],\n",
       "       [-0.39124875],\n",
       "       [ 2.14311652],\n",
       "       [-0.94519193],\n",
       "       [-0.81855415],\n",
       "       [ 1.9690399 ],\n",
       "       [ 1.79814066],\n",
       "       [-2.76534053],\n",
       "       [-1.90220911],\n",
       "       [ 2.0556304 ],\n",
       "       [ 0.13314861],\n",
       "       [ 1.9834214 ],\n",
       "       [-1.8156613 ],\n",
       "       [ 2.11821053],\n",
       "       [-0.99583736],\n",
       "       [-2.02711981],\n",
       "       [-0.41812795],\n",
       "       [-2.91908566],\n",
       "       [-1.08891404],\n",
       "       [-0.3057466 ],\n",
       "       [-1.78633875],\n",
       "       [-1.13591121],\n",
       "       [-0.14508539],\n",
       "       [-2.1047308 ],\n",
       "       [-2.45071629],\n",
       "       [-1.72525701],\n",
       "       [ 1.72340022],\n",
       "       [-0.18110077],\n",
       "       [-0.67467782],\n",
       "       [ 1.89568275],\n",
       "       [-1.32752687],\n",
       "       [ 0.52067133],\n",
       "       [ 2.93305807],\n",
       "       [-2.19883681],\n",
       "       [-0.43000886],\n",
       "       [ 1.51795312],\n",
       "       [ 0.36907586],\n",
       "       [-1.93435032],\n",
       "       [-0.03447829],\n",
       "       [ 2.73043795],\n",
       "       [-1.30424433],\n",
       "       [-0.66822618],\n",
       "       [ 1.45163836],\n",
       "       [-0.95174844],\n",
       "       [-1.78838294],\n",
       "       [-2.21507499],\n",
       "       [-2.41131303],\n",
       "       [-2.83508134],\n",
       "       [-0.78613092],\n",
       "       [-1.78990343],\n",
       "       [ 2.75533368],\n",
       "       [-2.18768583],\n",
       "       [-0.68448504],\n",
       "       [-2.60712393],\n",
       "       [ 0.74236626],\n",
       "       [ 1.56506845],\n",
       "       [ 1.98156855],\n",
       "       [ 2.55523368],\n",
       "       [ 2.00599949],\n",
       "       [ 2.91028326],\n",
       "       [ 2.69988735],\n",
       "       [ 1.41550881],\n",
       "       [-2.81296377],\n",
       "       [ 0.25434936],\n",
       "       [ 0.54276749],\n",
       "       [ 2.82900285],\n",
       "       [ 0.56366492],\n",
       "       [ 1.36255653],\n",
       "       [-2.30854707],\n",
       "       [ 1.16230761],\n",
       "       [-2.53870036],\n",
       "       [-0.24115547],\n",
       "       [ 1.06186554],\n",
       "       [ 0.84025729],\n",
       "       [ 2.88338707],\n",
       "       [-0.0031669 ],\n",
       "       [-1.87255926],\n",
       "       [-2.87887839],\n",
       "       [-1.97155907],\n",
       "       [-2.61085661],\n",
       "       [-2.93760929],\n",
       "       [-1.95303178],\n",
       "       [-2.02908559],\n",
       "       [ 1.52198063],\n",
       "       [ 2.0996617 ],\n",
       "       [-2.75439129],\n",
       "       [-2.99555195],\n",
       "       [-0.04626131]])"
      ]
     },
     "execution_count": 5,
     "metadata": {},
     "output_type": "execute_result"
    }
   ],
   "source": [
    "X"
   ]
  },
  {
   "cell_type": "code",
   "execution_count": 6,
   "id": "a7a75061",
   "metadata": {},
   "outputs": [
    {
     "data": {
      "text/plain": [
       "array([[1.27291628e+00],\n",
       "       [8.76491942e-02],\n",
       "       [5.10628174e+00],\n",
       "       [6.30352577e+00],\n",
       "       [1.44993807e+00],\n",
       "       [7.56131070e-02],\n",
       "       [3.69222831e+00],\n",
       "       [5.19764925e-01],\n",
       "       [1.20767736e-01],\n",
       "       [5.01395961e-01],\n",
       "       [3.51479652e+00],\n",
       "       [5.27363004e-01],\n",
       "       [7.59412665e+00],\n",
       "       [1.53075588e-01],\n",
       "       [4.59294843e+00],\n",
       "       [8.93387785e-01],\n",
       "       [6.70030894e-01],\n",
       "       [3.87711812e+00],\n",
       "       [3.23330982e+00],\n",
       "       [7.64710825e+00],\n",
       "       [3.61839950e+00],\n",
       "       [4.22561634e+00],\n",
       "       [1.77285531e-02],\n",
       "       [3.93396044e+00],\n",
       "       [3.29662596e+00],\n",
       "       [4.48681586e+00],\n",
       "       [9.91692044e-01],\n",
       "       [4.10921471e+00],\n",
       "       [1.74830982e-01],\n",
       "       [8.52106106e+00],\n",
       "       [1.18573378e+00],\n",
       "       [9.34809816e-02],\n",
       "       [3.19100614e+00],\n",
       "       [1.29029428e+00],\n",
       "       [2.10497714e-02],\n",
       "       [4.42989175e+00],\n",
       "       [6.00601033e+00],\n",
       "       [2.97651174e+00],\n",
       "       [2.97010833e+00],\n",
       "       [3.27974886e-02],\n",
       "       [4.55190159e-01],\n",
       "       [3.59361309e+00],\n",
       "       [1.76232758e+00],\n",
       "       [2.71098629e-01],\n",
       "       [8.60282965e+00],\n",
       "       [4.83488330e+00],\n",
       "       [1.84907624e-01],\n",
       "       [2.30418168e+00],\n",
       "       [1.36216988e-01],\n",
       "       [3.74171115e+00],\n",
       "       [1.18875220e-03],\n",
       "       [7.45529140e+00],\n",
       "       [1.70105326e+00],\n",
       "       [4.46526224e-01],\n",
       "       [2.10725393e+00],\n",
       "       [9.05825097e-01],\n",
       "       [3.19831354e+00],\n",
       "       [4.90655722e+00],\n",
       "       [5.81443053e+00],\n",
       "       [8.03768620e+00],\n",
       "       [6.18001822e-01],\n",
       "       [3.20375430e+00],\n",
       "       [7.59186367e+00],\n",
       "       [4.78596928e+00],\n",
       "       [4.68519776e-01],\n",
       "       [6.79709521e+00],\n",
       "       [5.51107662e-01],\n",
       "       [2.44943927e+00],\n",
       "       [3.92661393e+00],\n",
       "       [6.52921918e+00],\n",
       "       [4.02403395e+00],\n",
       "       [8.46974867e+00],\n",
       "       [7.28939172e+00],\n",
       "       [2.00366518e+00],\n",
       "       [7.91276516e+00],\n",
       "       [6.46935962e-02],\n",
       "       [2.94596547e-01],\n",
       "       [8.00325712e+00],\n",
       "       [3.17718142e-01],\n",
       "       [1.85656029e+00],\n",
       "       [5.32938957e+00],\n",
       "       [1.35095898e+00],\n",
       "       [6.44499954e+00],\n",
       "       [5.81559605e-02],\n",
       "       [1.12755842e+00],\n",
       "       [7.06032308e-01],\n",
       "       [8.31392099e+00],\n",
       "       [1.00292295e-05],\n",
       "       [3.50647817e+00],\n",
       "       [8.28794081e+00],\n",
       "       [3.88704518e+00],\n",
       "       [6.81657222e+00],\n",
       "       [8.62954836e+00],\n",
       "       [3.81433313e+00],\n",
       "       [4.11718831e+00],\n",
       "       [2.31642505e+00],\n",
       "       [4.40857927e+00],\n",
       "       [7.58667136e+00],\n",
       "       [8.97333148e+00],\n",
       "       [2.14010843e-03]])"
      ]
     },
     "execution_count": 6,
     "metadata": {},
     "output_type": "execute_result"
    }
   ],
   "source": [
    "X**2"
   ]
  },
  {
   "cell_type": "code",
   "execution_count": 7,
   "id": "39d09966",
   "metadata": {},
   "outputs": [],
   "source": [
    "y = 0.5*X**2 + X + 2 + np.random.randn(m,1)"
   ]
  },
  {
   "cell_type": "code",
   "execution_count": 8,
   "id": "9941715e",
   "metadata": {},
   "outputs": [
    {
     "data": {
      "text/plain": [
       "array([[ 1.24939006],\n",
       "       [ 0.56878261],\n",
       "       [ 0.87071397],\n",
       "       [ 1.60759739],\n",
       "       [ 4.05135802],\n",
       "       [ 1.09417166],\n",
       "       [ 3.85603378],\n",
       "       [ 2.08259233],\n",
       "       [-0.24138775],\n",
       "       [ 2.87144496],\n",
       "       [ 6.36333669],\n",
       "       [ 1.04449871],\n",
       "       [ 8.59458572],\n",
       "       [ 2.20979217],\n",
       "       [ 6.34780254],\n",
       "       [ 0.38695449],\n",
       "       [ 2.2978347 ],\n",
       "       [ 6.62570402],\n",
       "       [ 7.41156738],\n",
       "       [ 2.30688167],\n",
       "       [ 1.16197782],\n",
       "       [ 5.11656086],\n",
       "       [ 1.52641637],\n",
       "       [ 7.13135308],\n",
       "       [ 1.41787636],\n",
       "       [ 4.46999097],\n",
       "       [ 0.07356875],\n",
       "       [ 3.71909052],\n",
       "       [ 1.67794255],\n",
       "       [ 3.0089354 ],\n",
       "       [ 1.08320394],\n",
       "       [ 1.14658395],\n",
       "       [ 0.76336629],\n",
       "       [ 0.5899305 ],\n",
       "       [ 1.46928174],\n",
       "       [ 1.88368998],\n",
       "       [ 2.00872503],\n",
       "       [ 1.55318901],\n",
       "       [ 6.58894886],\n",
       "       [ 1.47148265],\n",
       "       [ 1.56710941],\n",
       "       [ 3.93196188],\n",
       "       [ 2.44735076],\n",
       "       [ 0.94526244],\n",
       "       [10.25512585],\n",
       "       [ 1.8596156 ],\n",
       "       [ 2.47679402],\n",
       "       [ 4.14488147],\n",
       "       [ 2.73755344],\n",
       "       [ 2.5898402 ],\n",
       "       [ 1.77782696],\n",
       "       [ 8.80912838],\n",
       "       [ 2.63383192],\n",
       "       [ 1.56038467],\n",
       "       [ 3.76423754],\n",
       "       [ 0.4890721 ],\n",
       "       [ 0.9755498 ],\n",
       "       [ 1.93501894],\n",
       "       [ 2.02041594],\n",
       "       [ 4.31209885],\n",
       "       [ 1.98957743],\n",
       "       [ 2.06999039],\n",
       "       [ 8.39692503],\n",
       "       [ 1.87727061],\n",
       "       [-0.50919898],\n",
       "       [ 3.62176385],\n",
       "       [ 4.88648659],\n",
       "       [ 5.17878807],\n",
       "       [ 3.792725  ],\n",
       "       [ 5.61338371],\n",
       "       [ 6.95556775],\n",
       "       [10.93583597],\n",
       "       [ 6.02029243],\n",
       "       [ 3.33289275],\n",
       "       [ 4.18792576],\n",
       "       [ 3.58092033],\n",
       "       [ 3.75110816],\n",
       "       [ 7.77146137],\n",
       "       [ 3.45439176],\n",
       "       [ 4.91875213],\n",
       "       [ 0.21201304],\n",
       "       [ 4.09694759],\n",
       "       [ 3.42388705],\n",
       "       [ 1.01553635],\n",
       "       [ 3.69379313],\n",
       "       [ 1.01019118],\n",
       "       [ 9.64367179],\n",
       "       [ 2.06312447],\n",
       "       [-0.12599213],\n",
       "       [ 2.60765633],\n",
       "       [ 3.37848706],\n",
       "       [ 2.59852557],\n",
       "       [ 2.78900839],\n",
       "       [ 3.99682963],\n",
       "       [ 1.77335416],\n",
       "       [ 5.44635309],\n",
       "       [ 6.84665318],\n",
       "       [ 1.88211275],\n",
       "       [ 4.06312496],\n",
       "       [ 2.78244575]])"
      ]
     },
     "execution_count": 8,
     "metadata": {},
     "output_type": "execute_result"
    }
   ],
   "source": [
    "y"
   ]
  },
  {
   "cell_type": "code",
   "execution_count": 9,
   "id": "7df27851",
   "metadata": {},
   "outputs": [
    {
     "data": {
      "text/plain": [
       "[<matplotlib.lines.Line2D at 0x204998e2490>]"
      ]
     },
     "execution_count": 9,
     "metadata": {},
     "output_type": "execute_result"
    },
    {
     "data": {
      "image/png": "[encoded data removed]",
      "text/plain": [
       "<Figure size 432x288 with 1 Axes>"
      ]
     },
     "metadata": {
      "needs_background": "light"
     },
     "output_type": "display_data"
    }
   ],
   "source": [
    "plt.plot(X, y, \"b.\")"
   ]
  },
  {
   "cell_type": "code",
   "execution_count": 10,
   "id": "fc53a693",
   "metadata": {},
   "outputs": [],
   "source": [
    "from sklearn.preprocessing import PolynomialFeatures\n",
    "poly_features = PolynomialFeatures(degree=2, include_bias=False)\n",
    "X_poly = poly_features.fit_transform(X)"
   ]
  },
  {
   "cell_type": "code",
   "execution_count": 11,
   "id": "e891f228",
   "metadata": {},
   "outputs": [
    {
     "data": {
      "text/plain": [
       "array([[-1.12823591e+00,  1.27291628e+00],\n",
       "       [-2.96056066e-01,  8.76491942e-02],\n",
       "       [-2.25970833e+00,  5.10628174e+00],\n",
       "       [-2.51068233e+00,  6.30352577e+00],\n",
       "       [ 1.20413374e+00,  1.44993807e+00],\n",
       "       [-2.74978376e-01,  7.56131070e-02],\n",
       "       [-1.92151719e+00,  3.69222831e+00],\n",
       "       [ 7.20947242e-01,  5.19764925e-01],\n",
       "       [-3.47516526e-01,  1.20767736e-01],\n",
       "       [ 7.08093187e-01,  5.01395961e-01],\n",
       "       [ 1.87477906e+00,  3.51479652e+00],\n",
       "       [-7.26197634e-01,  5.27363004e-01],\n",
       "       [ 2.75574430e+00,  7.59412665e+00],\n",
       "       [-3.91248755e-01,  1.53075588e-01],\n",
       "       [ 2.14311652e+00,  4.59294843e+00],\n",
       "       [-9.45191930e-01,  8.93387785e-01],\n",
       "       [-8.18554149e-01,  6.70030894e-01],\n",
       "       [ 1.96903990e+00,  3.87711812e+00],\n",
       "       [ 1.79814066e+00,  3.23330982e+00],\n",
       "       [-2.76534053e+00,  7.64710825e+00],\n",
       "       [-1.90220911e+00,  3.61839950e+00],\n",
       "       [ 2.05563040e+00,  4.22561634e+00],\n",
       "       [ 1.33148613e-01,  1.77285531e-02],\n",
       "       [ 1.98342140e+00,  3.93396044e+00],\n",
       "       [-1.81566130e+00,  3.29662596e+00],\n",
       "       [ 2.11821053e+00,  4.48681586e+00],\n",
       "       [-9.95837358e-01,  9.91692044e-01],\n",
       "       [-2.02711981e+00,  4.10921471e+00],\n",
       "       [-4.18127949e-01,  1.74830982e-01],\n",
       "       [-2.91908566e+00,  8.52106106e+00],\n",
       "       [-1.08891404e+00,  1.18573378e+00],\n",
       "       [-3.05746597e-01,  9.34809816e-02],\n",
       "       [-1.78633875e+00,  3.19100614e+00],\n",
       "       [-1.13591121e+00,  1.29029428e+00],\n",
       "       [-1.45085394e-01,  2.10497714e-02],\n",
       "       [-2.10473080e+00,  4.42989175e+00],\n",
       "       [-2.45071629e+00,  6.00601033e+00],\n",
       "       [-1.72525701e+00,  2.97651174e+00],\n",
       "       [ 1.72340022e+00,  2.97010833e+00],\n",
       "       [-1.81100769e-01,  3.27974886e-02],\n",
       "       [-6.74677819e-01,  4.55190159e-01],\n",
       "       [ 1.89568275e+00,  3.59361309e+00],\n",
       "       [-1.32752687e+00,  1.76232758e+00],\n",
       "       [ 5.20671326e-01,  2.71098629e-01],\n",
       "       [ 2.93305807e+00,  8.60282965e+00],\n",
       "       [-2.19883681e+00,  4.83488330e+00],\n",
       "       [-4.30008865e-01,  1.84907624e-01],\n",
       "       [ 1.51795312e+00,  2.30418168e+00],\n",
       "       [ 3.69075857e-01,  1.36216988e-01],\n",
       "       [-1.93435032e+00,  3.74171115e+00],\n",
       "       [-3.44782859e-02,  1.18875220e-03],\n",
       "       [ 2.73043795e+00,  7.45529140e+00],\n",
       "       [-1.30424433e+00,  1.70105326e+00],\n",
       "       [-6.68226177e-01,  4.46526224e-01],\n",
       "       [ 1.45163836e+00,  2.10725393e+00],\n",
       "       [-9.51748442e-01,  9.05825097e-01],\n",
       "       [-1.78838294e+00,  3.19831354e+00],\n",
       "       [-2.21507499e+00,  4.90655722e+00],\n",
       "       [-2.41131303e+00,  5.81443053e+00],\n",
       "       [-2.83508134e+00,  8.03768620e+00],\n",
       "       [-7.86130919e-01,  6.18001822e-01],\n",
       "       [-1.78990343e+00,  3.20375430e+00],\n",
       "       [ 2.75533368e+00,  7.59186367e+00],\n",
       "       [-2.18768583e+00,  4.78596928e+00],\n",
       "       [-6.84485044e-01,  4.68519776e-01],\n",
       "       [-2.60712393e+00,  6.79709521e+00],\n",
       "       [ 7.42366258e-01,  5.51107662e-01],\n",
       "       [ 1.56506845e+00,  2.44943927e+00],\n",
       "       [ 1.98156855e+00,  3.92661393e+00],\n",
       "       [ 2.55523368e+00,  6.52921918e+00],\n",
       "       [ 2.00599949e+00,  4.02403395e+00],\n",
       "       [ 2.91028326e+00,  8.46974867e+00],\n",
       "       [ 2.69988735e+00,  7.28939172e+00],\n",
       "       [ 1.41550881e+00,  2.00366518e+00],\n",
       "       [-2.81296377e+00,  7.91276516e+00],\n",
       "       [ 2.54349359e-01,  6.46935962e-02],\n",
       "       [ 5.42767489e-01,  2.94596547e-01],\n",
       "       [ 2.82900285e+00,  8.00325712e+00],\n",
       "       [ 5.63664920e-01,  3.17718142e-01],\n",
       "       [ 1.36255653e+00,  1.85656029e+00],\n",
       "       [-2.30854707e+00,  5.32938957e+00],\n",
       "       [ 1.16230761e+00,  1.35095898e+00],\n",
       "       [-2.53870036e+00,  6.44499954e+00],\n",
       "       [-2.41155470e-01,  5.81559605e-02],\n",
       "       [ 1.06186554e+00,  1.12755842e+00],\n",
       "       [ 8.40257287e-01,  7.06032308e-01],\n",
       "       [ 2.88338707e+00,  8.31392099e+00],\n",
       "       [-3.16689587e-03,  1.00292295e-05],\n",
       "       [-1.87255926e+00,  3.50647817e+00],\n",
       "       [-2.87887839e+00,  8.28794081e+00],\n",
       "       [-1.97155907e+00,  3.88704518e+00],\n",
       "       [-2.61085661e+00,  6.81657222e+00],\n",
       "       [-2.93760929e+00,  8.62954836e+00],\n",
       "       [-1.95303178e+00,  3.81433313e+00],\n",
       "       [-2.02908559e+00,  4.11718831e+00],\n",
       "       [ 1.52198063e+00,  2.31642505e+00],\n",
       "       [ 2.09966170e+00,  4.40857927e+00],\n",
       "       [-2.75439129e+00,  7.58667136e+00],\n",
       "       [-2.99555195e+00,  8.97333148e+00],\n",
       "       [-4.62613060e-02,  2.14010843e-03]])"
      ]
     },
     "execution_count": 11,
     "metadata": {},
     "output_type": "execute_result"
    }
   ],
   "source": [
    "X_poly"
   ]
  },
  {
   "cell_type": "code",
   "execution_count": 13,
   "id": "934d428d",
   "metadata": {},
   "outputs": [
    {
     "data": {
      "text/plain": [
       "(array([1.82115657]), array([[1.01672898, 0.513594  ]]))"
      ]
     },
     "execution_count": 13,
     "metadata": {},
     "output_type": "execute_result"
    }
   ],
   "source": [
    "from sklearn.linear_model import LinearRegression\n",
    "lin_reg = LinearRegression()\n",
    "lin_reg.fit(X_poly, y)\n",
    "lin_reg.intercept_, lin_reg.coef_"
   ]
  },
  {
   "cell_type": "code",
   "execution_count": 24,
   "id": "82f4a738",
   "metadata": {},
   "outputs": [],
   "source": [
    "X_new = np.linspace(-3, 3, 100).reshape(100,1)\n",
    "X_new_poly = poly_features.transform(X_new)\n",
    "y_new = lin_reg.predict(X_new_poly)"
   ]
  },
  {
   "cell_type": "code",
   "execution_count": 40,
   "id": "89a0913b",
   "metadata": {},
   "outputs": [
    {
     "data": {
      "text/plain": [
       "<matplotlib.legend.Legend at 0x2049c412be0>"
      ]
     },
     "execution_count": 40,
     "metadata": {},
     "output_type": "execute_result"
    },
    {
     "data": {
      "image/png": "[encoded data removed]",
      "text/plain": [
       "<Figure size 432x288 with 1 Axes>"
      ]
     },
     "metadata": {
      "needs_background": "light"
     },
     "output_type": "display_data"
    }
   ],
   "source": [
    "plt.plot(X, y, \"b.\")\n",
    "plt.plot(X_new, y_new, 'r-', label=\"Predictions with sklearn\")\n",
    "plt.xlabel(\"$x_1$\", fontsize=18)\n",
    "plt.ylabel(\"$y$\",rotation=0, fontsize=18)\n",
    "plt.axis([-3,3,0,10])\n",
    "plt.legend()"
   ]
  },
  {
   "cell_type": "code",
   "execution_count": 14,
   "id": "09feb38c",
   "metadata": {},
   "outputs": [],
   "source": [
    "X_b = np.c_[np.ones((100, 1)), X, X**2]"
   ]
  },
  {
   "cell_type": "code",
   "execution_count": 15,
   "id": "52e84872",
   "metadata": {},
   "outputs": [
    {
     "data": {
      "text/plain": [
       "array([[ 1.00000000e+00, -1.12823591e+00,  1.27291628e+00],\n",
       "       [ 1.00000000e+00, -2.96056066e-01,  8.76491942e-02],\n",
       "       [ 1.00000000e+00, -2.25970833e+00,  5.10628174e+00],\n",
       "       [ 1.00000000e+00, -2.51068233e+00,  6.30352577e+00],\n",
       "       [ 1.00000000e+00,  1.20413374e+00,  1.44993807e+00],\n",
       "       [ 1.00000000e+00, -2.74978376e-01,  7.56131070e-02],\n",
       "       [ 1.00000000e+00, -1.92151719e+00,  3.69222831e+00],\n",
       "       [ 1.00000000e+00,  7.20947242e-01,  5.19764925e-01],\n",
       "       [ 1.00000000e+00, -3.47516526e-01,  1.20767736e-01],\n",
       "       [ 1.00000000e+00,  7.08093187e-01,  5.01395961e-01],\n",
       "       [ 1.00000000e+00,  1.87477906e+00,  3.51479652e+00],\n",
       "       [ 1.00000000e+00, -7.26197634e-01,  5.27363004e-01],\n",
       "       [ 1.00000000e+00,  2.75574430e+00,  7.59412665e+00],\n",
       "       [ 1.00000000e+00, -3.91248755e-01,  1.53075588e-01],\n",
       "       [ 1.00000000e+00,  2.14311652e+00,  4.59294843e+00],\n",
       "       [ 1.00000000e+00, -9.45191930e-01,  8.93387785e-01],\n",
       "       [ 1.00000000e+00, -8.18554149e-01,  6.70030894e-01],\n",
       "       [ 1.00000000e+00,  1.96903990e+00,  3.87711812e+00],\n",
       "       [ 1.00000000e+00,  1.79814066e+00,  3.23330982e+00],\n",
       "       [ 1.00000000e+00, -2.76534053e+00,  7.64710825e+00],\n",
       "       [ 1.00000000e+00, -1.90220911e+00,  3.61839950e+00],\n",
       "       [ 1.00000000e+00,  2.05563040e+00,  4.22561634e+00],\n",
       "       [ 1.00000000e+00,  1.33148613e-01,  1.77285531e-02],\n",
       "       [ 1.00000000e+00,  1.98342140e+00,  3.93396044e+00],\n",
       "       [ 1.00000000e+00, -1.81566130e+00,  3.29662596e+00],\n",
       "       [ 1.00000000e+00,  2.11821053e+00,  4.48681586e+00],\n",
       "       [ 1.00000000e+00, -9.95837358e-01,  9.91692044e-01],\n",
       "       [ 1.00000000e+00, -2.02711981e+00,  4.10921471e+00],\n",
       "       [ 1.00000000e+00, -4.18127949e-01,  1.74830982e-01],\n",
       "       [ 1.00000000e+00, -2.91908566e+00,  8.52106106e+00],\n",
       "       [ 1.00000000e+00, -1.08891404e+00,  1.18573378e+00],\n",
       "       [ 1.00000000e+00, -3.05746597e-01,  9.34809816e-02],\n",
       "       [ 1.00000000e+00, -1.78633875e+00,  3.19100614e+00],\n",
       "       [ 1.00000000e+00, -1.13591121e+00,  1.29029428e+00],\n",
       "       [ 1.00000000e+00, -1.45085394e-01,  2.10497714e-02],\n",
       "       [ 1.00000000e+00, -2.10473080e+00,  4.42989175e+00],\n",
       "       [ 1.00000000e+00, -2.45071629e+00,  6.00601033e+00],\n",
       "       [ 1.00000000e+00, -1.72525701e+00,  2.97651174e+00],\n",
       "       [ 1.00000000e+00,  1.72340022e+00,  2.97010833e+00],\n",
       "       [ 1.00000000e+00, -1.81100769e-01,  3.27974886e-02],\n",
       "       [ 1.00000000e+00, -6.74677819e-01,  4.55190159e-01],\n",
       "       [ 1.00000000e+00,  1.89568275e+00,  3.59361309e+00],\n",
       "       [ 1.00000000e+00, -1.32752687e+00,  1.76232758e+00],\n",
       "       [ 1.00000000e+00,  5.20671326e-01,  2.71098629e-01],\n",
       "       [ 1.00000000e+00,  2.93305807e+00,  8.60282965e+00],\n",
       "       [ 1.00000000e+00, -2.19883681e+00,  4.83488330e+00],\n",
       "       [ 1.00000000e+00, -4.30008865e-01,  1.84907624e-01],\n",
       "       [ 1.00000000e+00,  1.51795312e+00,  2.30418168e+00],\n",
       "       [ 1.00000000e+00,  3.69075857e-01,  1.36216988e-01],\n",
       "       [ 1.00000000e+00, -1.93435032e+00,  3.74171115e+00],\n",
       "       [ 1.00000000e+00, -3.44782859e-02,  1.18875220e-03],\n",
       "       [ 1.00000000e+00,  2.73043795e+00,  7.45529140e+00],\n",
       "       [ 1.00000000e+00, -1.30424433e+00,  1.70105326e+00],\n",
       "       [ 1.00000000e+00, -6.68226177e-01,  4.46526224e-01],\n",
       "       [ 1.00000000e+00,  1.45163836e+00,  2.10725393e+00],\n",
       "       [ 1.00000000e+00, -9.51748442e-01,  9.05825097e-01],\n",
       "       [ 1.00000000e+00, -1.78838294e+00,  3.19831354e+00],\n",
       "       [ 1.00000000e+00, -2.21507499e+00,  4.90655722e+00],\n",
       "       [ 1.00000000e+00, -2.41131303e+00,  5.81443053e+00],\n",
       "       [ 1.00000000e+00, -2.83508134e+00,  8.03768620e+00],\n",
       "       [ 1.00000000e+00, -7.86130919e-01,  6.18001822e-01],\n",
       "       [ 1.00000000e+00, -1.78990343e+00,  3.20375430e+00],\n",
       "       [ 1.00000000e+00,  2.75533368e+00,  7.59186367e+00],\n",
       "       [ 1.00000000e+00, -2.18768583e+00,  4.78596928e+00],\n",
       "       [ 1.00000000e+00, -6.84485044e-01,  4.68519776e-01],\n",
       "       [ 1.00000000e+00, -2.60712393e+00,  6.79709521e+00],\n",
       "       [ 1.00000000e+00,  7.42366258e-01,  5.51107662e-01],\n",
       "       [ 1.00000000e+00,  1.56506845e+00,  2.44943927e+00],\n",
       "       [ 1.00000000e+00,  1.98156855e+00,  3.92661393e+00],\n",
       "       [ 1.00000000e+00,  2.55523368e+00,  6.52921918e+00],\n",
       "       [ 1.00000000e+00,  2.00599949e+00,  4.02403395e+00],\n",
       "       [ 1.00000000e+00,  2.91028326e+00,  8.46974867e+00],\n",
       "       [ 1.00000000e+00,  2.69988735e+00,  7.28939172e+00],\n",
       "       [ 1.00000000e+00,  1.41550881e+00,  2.00366518e+00],\n",
       "       [ 1.00000000e+00, -2.81296377e+00,  7.91276516e+00],\n",
       "       [ 1.00000000e+00,  2.54349359e-01,  6.46935962e-02],\n",
       "       [ 1.00000000e+00,  5.42767489e-01,  2.94596547e-01],\n",
       "       [ 1.00000000e+00,  2.82900285e+00,  8.00325712e+00],\n",
       "       [ 1.00000000e+00,  5.63664920e-01,  3.17718142e-01],\n",
       "       [ 1.00000000e+00,  1.36255653e+00,  1.85656029e+00],\n",
       "       [ 1.00000000e+00, -2.30854707e+00,  5.32938957e+00],\n",
       "       [ 1.00000000e+00,  1.16230761e+00,  1.35095898e+00],\n",
       "       [ 1.00000000e+00, -2.53870036e+00,  6.44499954e+00],\n",
       "       [ 1.00000000e+00, -2.41155470e-01,  5.81559605e-02],\n",
       "       [ 1.00000000e+00,  1.06186554e+00,  1.12755842e+00],\n",
       "       [ 1.00000000e+00,  8.40257287e-01,  7.06032308e-01],\n",
       "       [ 1.00000000e+00,  2.88338707e+00,  8.31392099e+00],\n",
       "       [ 1.00000000e+00, -3.16689587e-03,  1.00292295e-05],\n",
       "       [ 1.00000000e+00, -1.87255926e+00,  3.50647817e+00],\n",
       "       [ 1.00000000e+00, -2.87887839e+00,  8.28794081e+00],\n",
       "       [ 1.00000000e+00, -1.97155907e+00,  3.88704518e+00],\n",
       "       [ 1.00000000e+00, -2.61085661e+00,  6.81657222e+00],\n",
       "       [ 1.00000000e+00, -2.93760929e+00,  8.62954836e+00],\n",
       "       [ 1.00000000e+00, -1.95303178e+00,  3.81433313e+00],\n",
       "       [ 1.00000000e+00, -2.02908559e+00,  4.11718831e+00],\n",
       "       [ 1.00000000e+00,  1.52198063e+00,  2.31642505e+00],\n",
       "       [ 1.00000000e+00,  2.09966170e+00,  4.40857927e+00],\n",
       "       [ 1.00000000e+00, -2.75439129e+00,  7.58667136e+00],\n",
       "       [ 1.00000000e+00, -2.99555195e+00,  8.97333148e+00],\n",
       "       [ 1.00000000e+00, -4.62613060e-02,  2.14010843e-03]])"
      ]
     },
     "execution_count": 15,
     "metadata": {},
     "output_type": "execute_result"
    }
   ],
   "source": [
    "X_b"
   ]
  },
  {
   "cell_type": "code",
   "execution_count": 16,
   "id": "e29cf36f",
   "metadata": {},
   "outputs": [],
   "source": [
    "theta_hat = np.linalg.inv(X_b.T@X_b)@X_b.T@y"
   ]
  },
  {
   "cell_type": "code",
   "execution_count": 17,
   "id": "03437234",
   "metadata": {},
   "outputs": [
    {
     "data": {
      "text/plain": [
       "array([[1.82115657],\n",
       "       [1.01672898],\n",
       "       [0.513594  ]])"
      ]
     },
     "execution_count": 17,
     "metadata": {},
     "output_type": "execute_result"
    }
   ],
   "source": [
    "theta_hat"
   ]
  },
  {
   "cell_type": "code",
   "execution_count": 35,
   "id": "70bd17a4",
   "metadata": {},
   "outputs": [],
   "source": [
    "y_new2 = theta_hat[0] + theta_hat[1]*X_new + theta_hat[2]*X_new**2"
   ]
  },
  {
   "cell_type": "code",
   "execution_count": 36,
   "id": "ff97e576",
   "metadata": {},
   "outputs": [
    {
     "data": {
      "text/plain": [
       "array([3.39331559])"
      ]
     },
     "execution_count": 36,
     "metadata": {},
     "output_type": "execute_result"
    }
   ],
   "source": [
    "y_new[0]"
   ]
  },
  {
   "cell_type": "code",
   "execution_count": 37,
   "id": "b171b36f",
   "metadata": {},
   "outputs": [
    {
     "data": {
      "text/plain": [
       "array([3.39331559])"
      ]
     },
     "execution_count": 37,
     "metadata": {},
     "output_type": "execute_result"
    }
   ],
   "source": [
    "y_new2[0]"
   ]
  },
  {
   "cell_type": "code",
   "execution_count": 41,
   "id": "5a293b77",
   "metadata": {},
   "outputs": [
    {
     "data": {
      "text/plain": [
       "<matplotlib.legend.Legend at 0x2049c6942e0>"
      ]
     },
     "execution_count": 41,
     "metadata": {},
     "output_type": "execute_result"
    },
    {
     "data": {
      "image/png": "[encoded data removed]",
      "text/plain": [
       "<Figure size 432x288 with 1 Axes>"
      ]
     },
     "metadata": {
      "needs_background": "light"
     },
     "output_type": "display_data"
    }
   ],
   "source": [
    "plt.plot(X, y, \"b.\")\n",
    "plt.plot(X_new, y_new2, 'r-', label=\"Predictions by myself\")\n",
    "plt.xlabel(\"$x_1$\", fontsize=18)\n",
    "plt.ylabel(\"$y$\",rotation=0, fontsize=18)\n",
    "plt.axis([-3,3,0,10])\n",
    "plt.legend()"
   ]
  },
  {
   "cell_type": "code",
   "execution_count": 54,
   "id": "b226c03e",
   "metadata": {},
   "outputs": [],
   "source": [
    "from sklearn.metrics import mean_squared_error\n",
    "from sklearn.model_selection import train_test_split\n",
    "\n",
    "def plot_learning_curves(model, X, y):\n",
    "    X_train, X_val, y_train, y_val = train_test_split(X, y, test_size=0.2, random_state=10)\n",
    "    train_errors, val_errors = [], []\n",
    "    for m in range(1, len(X_train)):\n",
    "        model.fit(X_train[:m], y_train[:m])\n",
    "        y_train_predict = model.predict(X_train[:m])\n",
    "        y_val_predict = model.predict(X_val)\n",
    "        train_errors.append(mean_squared_error(y_train[:m], y_train_predict))\n",
    "        val_errors.append(mean_squared_error(y_val, y_val_predict))\n",
    "\n",
    "    plt.plot(np.sqrt(train_errors), \"r-+\", linewidth=2, label=\"train\")\n",
    "    plt.plot(np.sqrt(val_errors), \"b-\", linewidth=3, label=\"val\")\n",
    "    plt.legend(loc=\"upper right\", fontsize=14)   # not shown in the book\n",
    "    plt.xlabel(\"Training set size\", fontsize=14) # not shown\n",
    "    plt.ylabel(\"RMSE\", fontsize=14)              # not shown"
   ]
  },
  {
   "cell_type": "code",
   "execution_count": 55,
   "id": "19db8610",
   "metadata": {},
   "outputs": [
    {
     "data": {
      "image/png": "[encoded data removed]",
      "text/plain": [
       "<Figure size 432x288 with 1 Axes>"
      ]
     },
     "metadata": {
      "needs_background": "light"
     },
     "output_type": "display_data"
    }
   ],
   "source": [
    "lin_reg = LinearRegression()\n",
    "plot_learning_curves(lin_reg, X, y)"
   ]
  },
  {
   "cell_type": "code",
   "execution_count": 64,
   "id": "20b70c22",
   "metadata": {},
   "outputs": [],
   "source": [
    "from sklearn.pipeline import Pipeline\n",
    "\n",
    "polynomial_regression = Pipeline([\n",
    "        (\"poly_features\", PolynomialFeatures(degree=10, include_bias=False)),\n",
    "        (\"lin_reg\", LinearRegression()),\n",
    "])"
   ]
  },
  {
   "cell_type": "code",
   "execution_count": 65,
   "id": "3d2e5088",
   "metadata": {},
   "outputs": [
    {
     "data": {
      "image/png": "[encoded data removed]",
      "text/plain": [
       "<Figure size 432x288 with 1 Axes>"
      ]
     },
     "metadata": {
      "needs_background": "light"
     },
     "output_type": "display_data"
    }
   ],
   "source": [
    "plot_learning_curves(polynomial_regression, X, y)\n",
    "plt.axis([0, 80, 0, 3])           # not shown\n",
    "plt.show() "
   ]
  },
  {
   "cell_type": "code",
   "execution_count": null,
   "id": "237551b3",
   "metadata": {},
   "outputs": [],
   "source": []
  }
 ],
 "metadata": {
  "kernelspec": {
   "display_name": "Python 3",
   "language": "python",
   "name": "python3"
  },
  "language_info": {
   "codemirror_mode": {
    "name": "ipython",
    "version": 3
   },
   "file_extension": ".py",
   "mimetype": "text/x-python",
   "name": "python",
   "nbconvert_exporter": "python",
   "pygments_lexer": "ipython3",
   "version": "3.8.8"
  }
 },
 "nbformat": 4,
 "nbformat_minor": 5
}
