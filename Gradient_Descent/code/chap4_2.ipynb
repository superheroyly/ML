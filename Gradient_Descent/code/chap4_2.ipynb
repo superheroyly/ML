{
 "cells": [
  {
   "cell_type": "code",
   "execution_count": 21,
   "id": "5cca5fa0",
   "metadata": {},
   "outputs": [],
   "source": [
    "import numpy as np\n",
    "X=2*np.random.rand(100,1)\n",
    "y = 4 + 3*X + np.random.randn(100, 1)"
   ]
  },
  {
   "cell_type": "code",
   "execution_count": 22,
   "id": "d0353c93",
   "metadata": {},
   "outputs": [],
   "source": [
    "X_b = np.c_[np.ones((100, 1)), X]"
   ]
  },
  {
   "cell_type": "code",
   "execution_count": 23,
   "id": "e1e1e9d0",
   "metadata": {},
   "outputs": [],
   "source": [
    "theta_hat = np.linalg.inv(X_b.T@X_b)@X_b.T@y"
   ]
  },
  {
   "cell_type": "code",
   "execution_count": 24,
   "id": "e4583d85",
   "metadata": {},
   "outputs": [
    {
     "data": {
      "text/plain": [
       "array([[3.77625566],\n",
       "       [3.1711975 ]])"
      ]
     },
     "execution_count": 24,
     "metadata": {},
     "output_type": "execute_result"
    }
   ],
   "source": [
    "theta_hat"
   ]
  },
  {
   "cell_type": "code",
   "execution_count": 25,
   "id": "2db773ff",
   "metadata": {},
   "outputs": [],
   "source": [
    "eta = 0.1\n",
    "max_iter = 1000\n",
    "m = 100"
   ]
  },
  {
   "cell_type": "code",
   "execution_count": 26,
   "id": "802b9573",
   "metadata": {},
   "outputs": [],
   "source": [
    "theta = np.random.rand(2,1)"
   ]
  },
  {
   "cell_type": "code",
   "execution_count": 27,
   "id": "955b4593",
   "metadata": {},
   "outputs": [],
   "source": [
    "for k in range(max_iter):\n",
    "    gradients = 2/m*X_b.T@(X_b@theta-y)\n",
    "    theta = theta - eta*gradients"
   ]
  },
  {
   "cell_type": "code",
   "execution_count": 28,
   "id": "35435520",
   "metadata": {},
   "outputs": [
    {
     "data": {
      "text/plain": [
       "array([[3.77625566],\n",
       "       [3.1711975 ]])"
      ]
     },
     "execution_count": 28,
     "metadata": {},
     "output_type": "execute_result"
    }
   ],
   "source": [
    "theta"
   ]
  },
  {
   "cell_type": "code",
   "execution_count": 29,
   "id": "59602595",
   "metadata": {},
   "outputs": [
    {
     "data": {
      "text/plain": [
       "array([[1.        , 1.01366034],\n",
       "       [1.        , 1.11800707],\n",
       "       [1.        , 1.89034142],\n",
       "       [1.        , 1.95995732],\n",
       "       [1.        , 1.25142973],\n",
       "       [1.        , 1.66813782],\n",
       "       [1.        , 1.49226061],\n",
       "       [1.        , 1.56635157],\n",
       "       [1.        , 0.77124532],\n",
       "       [1.        , 1.56511691],\n",
       "       [1.        , 1.46022577],\n",
       "       [1.        , 1.14200047],\n",
       "       [1.        , 1.98410094],\n",
       "       [1.        , 1.38556401],\n",
       "       [1.        , 1.15744423],\n",
       "       [1.        , 0.76160222],\n",
       "       [1.        , 1.74054703],\n",
       "       [1.        , 1.9286219 ],\n",
       "       [1.        , 0.51440389],\n",
       "       [1.        , 1.73259245],\n",
       "       [1.        , 0.30930194],\n",
       "       [1.        , 0.3926422 ],\n",
       "       [1.        , 1.89979621],\n",
       "       [1.        , 0.40370331],\n",
       "       [1.        , 1.46556627],\n",
       "       [1.        , 0.01454413],\n",
       "       [1.        , 1.70421233],\n",
       "       [1.        , 0.43874696],\n",
       "       [1.        , 0.59239668],\n",
       "       [1.        , 0.61784566],\n",
       "       [1.        , 0.64059642],\n",
       "       [1.        , 1.18964652],\n",
       "       [1.        , 0.58883131],\n",
       "       [1.        , 0.47103748],\n",
       "       [1.        , 0.26636954],\n",
       "       [1.        , 1.33983965],\n",
       "       [1.        , 0.62807649],\n",
       "       [1.        , 1.81786262],\n",
       "       [1.        , 0.37302011],\n",
       "       [1.        , 0.87492763],\n",
       "       [1.        , 0.97644124],\n",
       "       [1.        , 0.72093408],\n",
       "       [1.        , 0.46881419],\n",
       "       [1.        , 0.29050371],\n",
       "       [1.        , 1.52771924],\n",
       "       [1.        , 0.53466326],\n",
       "       [1.        , 1.52597582],\n",
       "       [1.        , 1.85376021],\n",
       "       [1.        , 0.2090028 ],\n",
       "       [1.        , 1.90340453],\n",
       "       [1.        , 1.3967701 ],\n",
       "       [1.        , 1.7385804 ],\n",
       "       [1.        , 1.433814  ],\n",
       "       [1.        , 1.40290996],\n",
       "       [1.        , 0.17099584],\n",
       "       [1.        , 1.50541272],\n",
       "       [1.        , 1.98782244],\n",
       "       [1.        , 0.20403811],\n",
       "       [1.        , 0.50107426],\n",
       "       [1.        , 0.79034539],\n",
       "       [1.        , 0.65576945],\n",
       "       [1.        , 0.68087986],\n",
       "       [1.        , 1.84869299],\n",
       "       [1.        , 0.5741472 ],\n",
       "       [1.        , 1.23009679],\n",
       "       [1.        , 0.12381431],\n",
       "       [1.        , 0.5765474 ],\n",
       "       [1.        , 0.86255101],\n",
       "       [1.        , 1.29039396],\n",
       "       [1.        , 0.90470853],\n",
       "       [1.        , 0.80517451],\n",
       "       [1.        , 0.17860189],\n",
       "       [1.        , 0.89957502],\n",
       "       [1.        , 1.1546635 ],\n",
       "       [1.        , 0.56175766],\n",
       "       [1.        , 1.32917715],\n",
       "       [1.        , 0.24924482],\n",
       "       [1.        , 0.64421441],\n",
       "       [1.        , 1.63731829],\n",
       "       [1.        , 1.94244077],\n",
       "       [1.        , 1.7319784 ],\n",
       "       [1.        , 0.88514449],\n",
       "       [1.        , 1.67155484],\n",
       "       [1.        , 1.83121031],\n",
       "       [1.        , 0.17286916],\n",
       "       [1.        , 0.67278915],\n",
       "       [1.        , 1.83138517],\n",
       "       [1.        , 1.64870529],\n",
       "       [1.        , 1.32091831],\n",
       "       [1.        , 0.3265297 ],\n",
       "       [1.        , 1.46498396],\n",
       "       [1.        , 0.05386342],\n",
       "       [1.        , 1.16604491],\n",
       "       [1.        , 1.29554505],\n",
       "       [1.        , 0.15839288],\n",
       "       [1.        , 1.17275903],\n",
       "       [1.        , 1.81950073],\n",
       "       [1.        , 1.65812575],\n",
       "       [1.        , 1.50218886],\n",
       "       [1.        , 1.34279775]])"
      ]
     },
     "execution_count": 29,
     "metadata": {},
     "output_type": "execute_result"
    }
   ],
   "source": [
    "X_b"
   ]
  },
  {
   "cell_type": "code",
   "execution_count": 30,
   "id": "3d11a3da",
   "metadata": {},
   "outputs": [
    {
     "data": {
      "text/plain": [
       "array([[1.        , 1.89034142]])"
      ]
     },
     "execution_count": 30,
     "metadata": {},
     "output_type": "execute_result"
    }
   ],
   "source": [
    "X_b[2:3]"
   ]
  },
  {
   "cell_type": "code",
   "execution_count": 31,
   "id": "d1a16791",
   "metadata": {},
   "outputs": [
    {
     "data": {
      "text/plain": [
       "array([[ 5.9299136 ],\n",
       "       [ 7.50264619],\n",
       "       [10.43433923],\n",
       "       [10.1121172 ],\n",
       "       [ 8.45612302],\n",
       "       [ 7.63829082],\n",
       "       [ 8.05998388],\n",
       "       [ 9.51873042],\n",
       "       [ 5.37492412],\n",
       "       [ 9.14988471],\n",
       "       [ 7.72903425],\n",
       "       [ 7.17447644],\n",
       "       [10.0162487 ],\n",
       "       [ 7.56828681],\n",
       "       [ 5.3818894 ],\n",
       "       [ 5.20564525],\n",
       "       [10.51213933],\n",
       "       [10.23285145],\n",
       "       [ 6.61314208],\n",
       "       [ 9.62055228],\n",
       "       [ 4.21015682],\n",
       "       [ 5.24368853],\n",
       "       [10.00235928],\n",
       "       [ 4.29934751],\n",
       "       [ 7.25815831],\n",
       "       [ 3.37048576],\n",
       "       [ 9.24732354],\n",
       "       [ 4.4528607 ],\n",
       "       [ 3.93804978],\n",
       "       [ 5.66085749],\n",
       "       [ 4.68178637],\n",
       "       [ 6.62979244],\n",
       "       [ 5.86192134],\n",
       "       [ 4.63858107],\n",
       "       [ 2.31005009],\n",
       "       [ 6.73479404],\n",
       "       [ 5.78365587],\n",
       "       [12.21354321],\n",
       "       [ 4.97317137],\n",
       "       [ 7.11756499],\n",
       "       [ 7.43158637],\n",
       "       [ 5.80839439],\n",
       "       [ 4.77087847],\n",
       "       [ 5.65503057],\n",
       "       [ 9.07254987],\n",
       "       [ 6.08725441],\n",
       "       [ 9.27268106],\n",
       "       [ 9.64404367],\n",
       "       [ 4.43882602],\n",
       "       [10.27471321],\n",
       "       [ 9.25957006],\n",
       "       [ 9.5491294 ],\n",
       "       [ 6.94927895],\n",
       "       [ 8.05167768],\n",
       "       [ 4.16246302],\n",
       "       [ 8.87559384],\n",
       "       [10.1913023 ],\n",
       "       [ 5.56040581],\n",
       "       [ 5.83092879],\n",
       "       [ 7.7738932 ],\n",
       "       [ 5.83163943],\n",
       "       [ 5.43899086],\n",
       "       [ 8.54864272],\n",
       "       [ 6.99147946],\n",
       "       [ 8.05666906],\n",
       "       [ 3.25285672],\n",
       "       [ 7.37448562],\n",
       "       [ 7.41521616],\n",
       "       [ 7.32248228],\n",
       "       [ 7.71853174],\n",
       "       [ 8.54131711],\n",
       "       [ 4.82949118],\n",
       "       [ 5.15288256],\n",
       "       [ 8.73797651],\n",
       "       [ 5.60684758],\n",
       "       [ 9.03899582],\n",
       "       [ 3.53404233],\n",
       "       [ 6.09679338],\n",
       "       [ 8.61754258],\n",
       "       [ 8.33096401],\n",
       "       [ 9.73536352],\n",
       "       [ 7.62221484],\n",
       "       [ 7.67320925],\n",
       "       [ 9.9362486 ],\n",
       "       [ 3.06539244],\n",
       "       [ 7.79682088],\n",
       "       [10.46671973],\n",
       "       [ 7.39772736],\n",
       "       [ 7.6399231 ],\n",
       "       [ 6.0006656 ],\n",
       "       [ 7.94112657],\n",
       "       [ 4.98631606],\n",
       "       [ 6.88005504],\n",
       "       [ 8.84630978],\n",
       "       [ 4.44081615],\n",
       "       [ 6.00967726],\n",
       "       [ 8.85556373],\n",
       "       [ 9.55852137],\n",
       "       [ 7.7250472 ],\n",
       "       [ 8.89253093]])"
      ]
     },
     "execution_count": 31,
     "metadata": {},
     "output_type": "execute_result"
    }
   ],
   "source": [
    "y"
   ]
  },
  {
   "cell_type": "code",
   "execution_count": 32,
   "id": "cb1bdc35",
   "metadata": {},
   "outputs": [
    {
     "data": {
      "text/plain": [
       "array([[10.43433923]])"
      ]
     },
     "execution_count": 32,
     "metadata": {},
     "output_type": "execute_result"
    }
   ],
   "source": [
    "y[2:3]"
   ]
  },
  {
   "cell_type": "code",
   "execution_count": 33,
   "id": "d6c4dce8",
   "metadata": {},
   "outputs": [
    {
     "data": {
      "text/plain": [
       "39"
      ]
     },
     "execution_count": 33,
     "metadata": {},
     "output_type": "execute_result"
    }
   ],
   "source": [
    "np.random.randint(100)"
   ]
  },
  {
   "cell_type": "code",
   "execution_count": 34,
   "id": "5b40d088",
   "metadata": {},
   "outputs": [],
   "source": [
    "epoch = 50\n",
    "t0 = 5\n",
    "t1 = 50"
   ]
  },
  {
   "cell_type": "code",
   "execution_count": 35,
   "id": "af77f4da",
   "metadata": {},
   "outputs": [],
   "source": [
    "theta = np.random.randn(2,1)"
   ]
  },
  {
   "cell_type": "code",
   "execution_count": 56,
   "id": "ba1f8562",
   "metadata": {},
   "outputs": [],
   "source": [
    "for k in range(epoch):\n",
    "    for i in range(m):\n",
    "        random_index = np.random.randint(m)\n",
    "        xi = X_b[random_index:random_index+1]\n",
    "        yi = y[random_index:random_index+1]\n",
    "        gradients = 2*xi.T*(xi@theta-yi)\n",
    "        eta = 5/(50+k*m+i)\n",
    "        theta = theta - eta*gradients"
   ]
  },
  {
   "cell_type": "code",
   "execution_count": 57,
   "id": "ef40edbc",
   "metadata": {},
   "outputs": [
    {
     "data": {
      "text/plain": [
       "array([[3.7521117 ],\n",
       "       [3.17389423]])"
      ]
     },
     "execution_count": 57,
     "metadata": {},
     "output_type": "execute_result"
    }
   ],
   "source": [
    "theta"
   ]
  },
  {
   "cell_type": "code",
   "execution_count": 38,
   "id": "a352e9aa",
   "metadata": {},
   "outputs": [
    {
     "data": {
      "text/plain": [
       "array([ 5.9299136 ,  7.50264619, 10.43433923, 10.1121172 ,  8.45612302,\n",
       "        7.63829082,  8.05998388,  9.51873042,  5.37492412,  9.14988471,\n",
       "        7.72903425,  7.17447644, 10.0162487 ,  7.56828681,  5.3818894 ,\n",
       "        5.20564525, 10.51213933, 10.23285145,  6.61314208,  9.62055228,\n",
       "        4.21015682,  5.24368853, 10.00235928,  4.29934751,  7.25815831,\n",
       "        3.37048576,  9.24732354,  4.4528607 ,  3.93804978,  5.66085749,\n",
       "        4.68178637,  6.62979244,  5.86192134,  4.63858107,  2.31005009,\n",
       "        6.73479404,  5.78365587, 12.21354321,  4.97317137,  7.11756499,\n",
       "        7.43158637,  5.80839439,  4.77087847,  5.65503057,  9.07254987,\n",
       "        6.08725441,  9.27268106,  9.64404367,  4.43882602, 10.27471321,\n",
       "        9.25957006,  9.5491294 ,  6.94927895,  8.05167768,  4.16246302,\n",
       "        8.87559384, 10.1913023 ,  5.56040581,  5.83092879,  7.7738932 ,\n",
       "        5.83163943,  5.43899086,  8.54864272,  6.99147946,  8.05666906,\n",
       "        3.25285672,  7.37448562,  7.41521616,  7.32248228,  7.71853174,\n",
       "        8.54131711,  4.82949118,  5.15288256,  8.73797651,  5.60684758,\n",
       "        9.03899582,  3.53404233,  6.09679338,  8.61754258,  8.33096401,\n",
       "        9.73536352,  7.62221484,  7.67320925,  9.9362486 ,  3.06539244,\n",
       "        7.79682088, 10.46671973,  7.39772736,  7.6399231 ,  6.0006656 ,\n",
       "        7.94112657,  4.98631606,  6.88005504,  8.84630978,  4.44081615,\n",
       "        6.00967726,  8.85556373,  9.55852137,  7.7250472 ,  8.89253093])"
      ]
     },
     "execution_count": 38,
     "metadata": {},
     "output_type": "execute_result"
    }
   ],
   "source": [
    "y.ravel()"
   ]
  },
  {
   "cell_type": "code",
   "execution_count": 39,
   "id": "58535a54",
   "metadata": {},
   "outputs": [],
   "source": [
    "from sklearn.linear_model import SGDRegressor"
   ]
  },
  {
   "cell_type": "code",
   "execution_count": 42,
   "id": "74ba179f",
   "metadata": {},
   "outputs": [],
   "source": [
    "sgd_reg = SGDRegressor(max_iter=1000, tol=1e-3, penalty=None, eta0=0.1)"
   ]
  },
  {
   "cell_type": "code",
   "execution_count": 44,
   "id": "708784a3",
   "metadata": {},
   "outputs": [
    {
     "data": {
      "text/plain": [
       "SGDRegressor(eta0=0.1, penalty=None)"
      ]
     },
     "execution_count": 44,
     "metadata": {},
     "output_type": "execute_result"
    }
   ],
   "source": [
    "sgd_reg.fit(X, y.ravel())"
   ]
  },
  {
   "cell_type": "code",
   "execution_count": 45,
   "id": "fcc94c08",
   "metadata": {},
   "outputs": [
    {
     "data": {
      "text/plain": [
       "array([3.72318361])"
      ]
     },
     "execution_count": 45,
     "metadata": {},
     "output_type": "execute_result"
    }
   ],
   "source": [
    "sgd_reg.intercept_"
   ]
  },
  {
   "cell_type": "code",
   "execution_count": 46,
   "id": "95f738a3",
   "metadata": {},
   "outputs": [
    {
     "data": {
      "text/plain": [
       "array([3.15542615])"
      ]
     },
     "execution_count": 46,
     "metadata": {},
     "output_type": "execute_result"
    }
   ],
   "source": [
    "sgd_reg.coef_"
   ]
  },
  {
   "cell_type": "code",
   "execution_count": 51,
   "id": "49cb0cbb",
   "metadata": {},
   "outputs": [],
   "source": [
    "epoch = 50\n",
    "minibatch_size = 20"
   ]
  },
  {
   "cell_type": "code",
   "execution_count": 54,
   "id": "6e45773c",
   "metadata": {},
   "outputs": [],
   "source": [
    "theta = np.random.randn(2,1)\n",
    "t=0\n",
    "for k in range(epoch):\n",
    "    shuffled_indices = np.random.permutation(m)\n",
    "    X_b_shuffled = X_b[shuffled_indices]\n",
    "    y_shuffled = y[shuffled_indices]\n",
    "    for i in range(0, m, minibatch_size):\n",
    "        t += 1\n",
    "        xi = X_b_shuffled[i:i+minibatch_size]\n",
    "        yi = y_shuffled[i:i+minibatch_size]\n",
    "        gradients = 2/minibatch_size*xi.T@(xi@theta-yi)\n",
    "        eta = 10/(100+t)\n",
    "        theta = theta - eta*gradients"
   ]
  },
  {
   "cell_type": "code",
   "execution_count": 55,
   "id": "edee665f",
   "metadata": {},
   "outputs": [
    {
     "data": {
      "text/plain": [
       "array([[3.77767258],\n",
       "       [3.17856902]])"
      ]
     },
     "execution_count": 55,
     "metadata": {},
     "output_type": "execute_result"
    }
   ],
   "source": [
    "theta"
   ]
  },
  {
   "cell_type": "code",
   "execution_count": null,
   "id": "8edfb247",
   "metadata": {},
   "outputs": [],
   "source": []
  }
 ],
 "metadata": {
  "kernelspec": {
   "display_name": "Python 3",
   "language": "python",
   "name": "python3"
  },
  "language_info": {
   "codemirror_mode": {
    "name": "ipython",
    "version": 3
   },
   "file_extension": ".py",
   "mimetype": "text/x-python",
   "name": "python",
   "nbconvert_exporter": "python",
   "pygments_lexer": "ipython3",
   "version": "3.8.8"
  }
 },
 "nbformat": 4,
 "nbformat_minor": 5
}
