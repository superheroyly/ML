{
 "cells": [
  {
   "cell_type": "code",
   "execution_count": 1,
   "metadata": {
    "collapsed": true
   },
   "outputs": [],
   "source": [
    "    # Importing the basic libraries.\n",
    "import numpy as np\n",
    "import pandas as pd\n",
    "import matplotlib.pyplot as plt\n",
    "import seaborn as sns\n",
    "import warnings\n",
    "warnings.filterwarnings('ignore')\n",
    "import pandas_profiling as pdb\n",
    "import os\n",
    "plt.style.use('ggplot')"
   ]
  },
  {
   "cell_type": "code",
   "execution_count": 2,
   "metadata": {},
   "outputs": [],
   "source": [
    "train_data = pd.read_csv('churn_training.txt', sep='\\t')\n",
    "test_data = pd.read_csv('churn_test.txt', sep='\\t')"
   ]
  },
  {
   "cell_type": "code",
   "execution_count": 3,
   "metadata": {},
   "outputs": [
    {
     "name": "stdout",
     "output_type": "stream",
     "text": [
      "(2000, 21)\n",
      "(1033, 21)\n"
     ]
    }
   ],
   "source": [
    "# checking the training and testing data.\n",
    "print(train_data.shape)\n",
    "print(test_data.shape)"
   ]
  },
  {
   "cell_type": "code",
   "execution_count": 4,
   "metadata": {},
   "outputs": [],
   "source": [
    "# 去除没有用处的特征\n",
    "train_data.drop('area_code', axis=1, inplace=True)\n",
    "test_data.drop('area_code', axis=1, inplace=True)\n",
    "train_data.drop('phone_number', axis=1, inplace=True)\n",
    "test_data.drop('phone_number', axis=1, inplace=True)\n",
    "train_data.drop('state', axis=1, inplace=True)\n",
    "test_data.drop('state', axis=1, inplace=True)"
   ]
  },
  {
   "cell_type": "code",
   "execution_count": 5,
   "metadata": {},
   "outputs": [
    {
     "name": "stdout",
     "output_type": "stream",
     "text": [
      "(2000, 18)\n",
      "(1033, 18)\n"
     ]
    }
   ],
   "source": [
    "# checking the training and testing data.\n",
    "print(train_data.shape)\n",
    "print(test_data.shape)"
   ]
  },
  {
   "cell_type": "code",
   "execution_count": 6,
   "metadata": {},
   "outputs": [],
   "source": [
    "from sklearn.linear_model import LogisticRegression\n",
    "\n",
    "train_y, test_y = train_data['class'], test_data['class']\n",
    "train_x, test_x = train_data.drop(columns='class', axis=1), test_data.drop(columns='class', axis=1)\n",
    "logreg = LogisticRegression()\n",
    "logreg.fit(train_x, train_y)\n",
    "prediction = logreg.predict(test_x)"
   ]
  },
  {
   "cell_type": "code",
   "execution_count": 7,
   "metadata": {},
   "outputs": [],
   "source": [
    "from sklearn import metrics\n",
    "from sklearn.metrics import confusion_matrix #for confusion matrix\n",
    "\n",
    "def Result(prediction, test_y):\n",
    "    print('The accuracy of the Decision Tree is',metrics.accuracy_score(prediction, test_y))\n",
    "    print('The f1_score of the Decision Tree is',metrics.f1_score(prediction, test_y))\n",
    "    print('The precision_score of the Decision Tree is',metrics.precision_score(prediction, test_y))\n",
    "    print('The recall_score of the Decision Tree is',metrics.recall_score(prediction, test_y))\n",
    "    print('The roc_auc_score of the Decision Tree is',metrics.roc_auc_score(prediction, test_y))\n",
    "    print(confusion_matrix(test_y, prediction))"
   ]
  },
  {
   "cell_type": "code",
   "execution_count": 9,
   "metadata": {},
   "outputs": [
    {
     "name": "stdout",
     "output_type": "stream",
     "text": [
      "The accuracy of the Decision Tree is 0.9467570183930301\n",
      "The f1_score of the Decision Tree is 0.12698412698412698\n",
      "The precision_score of the Decision Tree is 0.09302325581395349\n",
      "The recall_score of the Decision Tree is 0.2\n",
      "The roc_auc_score of the Decision Tree is 0.5807502467917078\n",
      "[[974  16]\n",
      " [ 39   4]]\n"
     ]
    }
   ],
   "source": [
    "Result(prediction, test_y)"
   ]
  },
  {
   "cell_type": "code",
   "execution_count": 10,
   "metadata": {},
   "outputs": [
    {
     "data": {
      "image/png": "[encoded data removed]",
      "text/plain": [
       "<Figure size 432x288 with 2 Axes>"
      ]
     },
     "metadata": {},
     "output_type": "display_data"
    }
   ],
   "source": [
    "from sklearn.metrics import plot_confusion_matrix\n",
    "import matplotlib.pyplot as plt\n",
    "\n",
    "plot_confusion_matrix(logreg, test_x, test_y, cmap=\"Blues\")\n",
    "plt.savefig('./Image/logistic_regression_cm.jpg', dpi=200)\n",
    "plt.show()"
   ]
  },
  {
   "cell_type": "code",
   "execution_count": null,
   "metadata": {},
   "outputs": [],
   "source": []
  }
 ],
 "metadata": {
  "kernelspec": {
   "display_name": "Python 3 (ipykernel)",
   "language": "python",
   "name": "python3"
  },
  "language_info": {
   "codemirror_mode": {
    "name": "ipython",
    "version": 3
   },
   "file_extension": ".py",
   "mimetype": "text/x-python",
   "name": "python",
   "nbconvert_exporter": "python",
   "pygments_lexer": "ipython3",
   "version": "3.8.5"
  }
 },
 "nbformat": 4,
 "nbformat_minor": 1
}
