{
 "cells": [
  {
   "cell_type": "code",
   "execution_count": 1,
   "metadata": {
    "collapsed": true
   },
   "outputs": [],
   "source": [
    "# Importing the basic libraries.\n",
    "import numpy as np\n",
    "import pandas as pd\n",
    "import matplotlib.pyplot as plt\n",
    "import seaborn as sns\n",
    "import warnings\n",
    "warnings.filterwarnings('ignore')\n",
    "import pandas_profiling as pdb\n",
    "import os\n",
    "plt.style.use('ggplot')"
   ]
  },
  {
   "cell_type": "code",
   "execution_count": 2,
   "outputs": [],
   "source": [
    "train_data = pd.read_csv('churn_training.txt', sep='\\t')\n",
    "test_data = pd.read_csv('churn_test.txt', sep='\\t')"
   ],
   "metadata": {
    "collapsed": false
   }
  },
  {
   "cell_type": "code",
   "execution_count": 3,
   "outputs": [
    {
     "name": "stdout",
     "output_type": "stream",
     "text": [
      "(2000, 21)\n",
      "(1033, 21)\n"
     ]
    }
   ],
   "source": [
    "# checking the training and testing data.\n",
    "print(train_data.shape)\n",
    "print(test_data.shape)"
   ],
   "metadata": {
    "collapsed": false
   }
  },
  {
   "cell_type": "code",
   "execution_count": 4,
   "outputs": [],
   "source": [
    "# 去除没有用处的特征\n",
    "train_data.drop('area_code', axis=1, inplace=True)\n",
    "test_data.drop('area_code', axis=1, inplace=True)\n",
    "train_data.drop('phone_number', axis=1, inplace=True)\n",
    "test_data.drop('phone_number', axis=1, inplace=True)\n",
    "train_data.drop('state', axis=1, inplace=True)\n",
    "test_data.drop('state', axis=1, inplace=True)"
   ],
   "metadata": {
    "collapsed": false
   }
  },
  {
   "cell_type": "code",
   "execution_count": 5,
   "outputs": [
    {
     "name": "stdout",
     "output_type": "stream",
     "text": [
      "(2000, 18)\n",
      "(1033, 18)\n"
     ]
    }
   ],
   "source": [
    "# checking the training and testing data.\n",
    "print(train_data.shape)\n",
    "print(test_data.shape)"
   ],
   "metadata": {
    "collapsed": false
   }
  },
  {
   "cell_type": "code",
   "execution_count": 6,
   "outputs": [],
   "source": [
    "def zscore(df):\n",
    "    out = []\n",
    "    m = np.mean(df)\n",
    "    sd = np.std(df)\n",
    "    for i in enumerate(df):\n",
    "        n = i[0]\n",
    "        i = i[1]\n",
    "        z = (i-m) / sd\n",
    "        if np.abs(z) > 3:\n",
    "            out.append(n)\n",
    "#             print(i)\n",
    "#     print(\"Outliers:\", out)\n",
    "    return len(out), out"
   ],
   "metadata": {
    "collapsed": false
   }
  },
  {
   "cell_type": "code",
   "execution_count": 7,
   "outputs": [
    {
     "name": "stdout",
     "output_type": "stream",
     "text": [
      "18\n",
      "['account_length', 'international_plan', 'voice_mail_plan', 'number_vmail_messages', 'total_day_minutes', 'total_day_calls', 'total_day_charge', 'total_eve_minutes', 'total_eve_calls', 'total_eve_charge', 'total_night_minutes', 'total_night_calls', 'total_night_charge', 'total_intl_minutes', 'total_intl_calls', 'total_intl_charge', 'number_customer_service_calls']\n",
      "17\n"
     ]
    }
   ],
   "source": [
    "numeric_cols = list(train_data.select_dtypes(exclude='object').columns)\n",
    "print(len(numeric_cols))\n",
    "\n",
    "numeric_cols = numeric_cols[:-1]\n",
    "print(numeric_cols)\n",
    "print(len(numeric_cols))\n"
   ],
   "metadata": {
    "collapsed": false
   }
  },
  {
   "cell_type": "code",
   "execution_count": 8,
   "outputs": [
    {
     "name": "stdout",
     "output_type": "stream",
     "text": [
      "99 [514, 517, 12, 529, 1554, 1043, 532, 542, 1575, 1596, 572, 574, 590, 593, 1626, 100, 613, 1126, 102, 105, 1643, 1645, 1655, 1143, 1148, 641, 1172, 666, 1185, 1188, 1702, 679, 680, 169, 1192, 188, 191, 197, 1745, 1752, 217, 1762, 1763, 1766, 1771, 751, 1777, 243, 758, 1806, 784, 275, 790, 279, 283, 795, 802, 1826, 293, 1835, 302, 1326, 1842, 307, 836, 1862, 1865, 844, 336, 1365, 358, 362, 366, 1397, 888, 1401, 1404, 1925, 399, 1936, 1426, 919, 410, 1438, 928, 416, 930, 1966, 1976, 1977, 443, 1470, 453, 970, 480, 490, 499, 1529, 508]\n"
     ]
    }
   ],
   "source": [
    "num_dele, dele = 0, []\n",
    "for i in numeric_cols:\n",
    "    i = str(i)\n",
    "    t1,t2 = zscore(train_data[i])\n",
    "    num_dele += t1\n",
    "    dele.extend(t2)\n",
    "\n",
    "dele = list(set(dele))\n",
    "print(len(dele), dele)"
   ],
   "metadata": {
    "collapsed": false
   }
  },
  {
   "cell_type": "code",
   "execution_count": 9,
   "outputs": [],
   "source": [
    "train_y, test_y = train_data['class'], test_data['class']\n",
    "train_x, test_x = train_data.drop(columns='class', axis=1), test_data.drop(columns='class', axis=1)"
   ],
   "metadata": {
    "collapsed": false
   }
  },
  {
   "cell_type": "code",
   "execution_count": 24,
   "outputs": [],
   "source": [
    "from sklearn.model_selection import GridSearchCV\n",
    "from sklearn.svm import SVC\n",
    "\n",
    "clf = SVC(kernel='rbf', C=100, gamma=0.001)\n",
    "clf.fit(train_x, train_y)\n",
    "prediction = clf.predict(test_x)"
   ],
   "metadata": {
    "collapsed": false
   }
  },
  {
   "cell_type": "code",
   "execution_count": 25,
   "outputs": [],
   "source": [
    "from sklearn import metrics\n",
    "from sklearn.metrics import confusion_matrix #for confusion matrix\n",
    "\n",
    "def Result(prediction, test_y):\n",
    "    print('The accuracy of the Decision Tree is',metrics.accuracy_score(prediction, test_y))\n",
    "    print('The f1_score of the Decision Tree is',metrics.f1_score(prediction, test_y))\n",
    "    print('The precision_score of the Decision Tree is',metrics.precision_score(prediction, test_y))\n",
    "    print('The recall_score of the Decision Tree is',metrics.recall_score(prediction, test_y))\n",
    "    print('The roc_auc_score of the Decision Tree is',metrics.roc_auc_score(prediction, test_y))\n",
    "    print(confusion_matrix(test_y, prediction))"
   ],
   "metadata": {
    "collapsed": false
   }
  },
  {
   "cell_type": "code",
   "execution_count": 26,
   "outputs": [
    {
     "name": "stdout",
     "output_type": "stream",
     "text": [
      "The accuracy of the Decision Tree is 0.9506292352371732\n",
      "The f1_score of the Decision Tree is 0.2388059701492537\n",
      "The precision_score of the Decision Tree is 0.18604651162790697\n",
      "The recall_score of the Decision Tree is 0.3333333333333333\n",
      "The roc_auc_score of the Decision Tree is 0.6493227618103733\n",
      "[[974  16]\n",
      " [ 35   8]]\n"
     ]
    }
   ],
   "source": [
    "Result(prediction, test_y)"
   ],
   "metadata": {
    "collapsed": false
   }
  },
  {
   "cell_type": "code",
   "execution_count": 27,
   "outputs": [
    {
     "data": {
      "text/plain": "<Figure size 432x288 with 2 Axes>",
      "image/png": "[encoded data removed]"
     },
     "metadata": {},
     "output_type": "display_data"
    }
   ],
   "source": [
    "from sklearn.metrics import plot_confusion_matrix\n",
    "import matplotlib.pyplot as plt\n",
    "\n",
    "plot_confusion_matrix(clf, test_x, test_y, cmap=\"Blues\")\n",
    "plt.savefig('./Image/svm_cm.jpg', dpi=200)\n",
    "plt.show()"
   ],
   "metadata": {
    "collapsed": false
   }
  },
  {
   "cell_type": "code",
   "execution_count": null,
   "outputs": [],
   "source": [],
   "metadata": {
    "collapsed": false
   }
  }
 ],
 "metadata": {
  "kernelspec": {
   "display_name": "Python 3",
   "language": "python",
   "name": "python3"
  },
  "language_info": {
   "codemirror_mode": {
    "name": "ipython",
    "version": 2
   },
   "file_extension": ".py",
   "mimetype": "text/x-python",
   "name": "python",
   "nbconvert_exporter": "python",
   "pygments_lexer": "ipython2",
   "version": "2.7.6"
  }
 },
 "nbformat": 4,
 "nbformat_minor": 0
}
